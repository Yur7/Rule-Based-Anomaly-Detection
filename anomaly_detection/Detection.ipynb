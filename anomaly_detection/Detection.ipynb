{
 "cells": [
  {
   "cell_type": "code",
   "execution_count": 4,
   "id": "9c906b7c",
   "metadata": {},
   "outputs": [],
   "source": [
    "%matplotlib inline\n",
    "import matplotlib.pyplot as plt\n",
    "import numpy as np\n",
    "import pandas as pd\n",
    "import seaborn as sns"
   ]
  },
  {
   "cell_type": "markdown",
   "id": "1e202f21",
   "metadata": {},
   "source": [
    "# project1\n",
    "Симуляция за декабрь 2018.\n",
    "Seed = 27"
   ]
  },
  {
   "cell_type": "code",
   "execution_count": 6,
   "id": "8f73bba7",
   "metadata": {},
   "outputs": [
    {
     "name": "stderr",
     "output_type": "stream",
     "text": [
      "[INFO] [ simulate.py ] Simulating 31.0 days...\n",
      "[INFO] [ simulate.py ] Saving logs\n",
      "[INFO] [ simulate.py ] All done!\n"
     ]
    }
   ],
   "source": [
    "!python ../anomaly_detection/simulate.py \\\n",
    "    -s 27 \\\n",
    "    -u ../anomaly_detection/user_data/user_base.txt \\\n",
    "    -i ../anomaly_detection/user_data/user_ips.json \\\n",
    "    -l december_2018_log.csv \\\n",
    "    -hl december_2018_attacks.csv \\\n",
    "    31 \"2018-12-01\""
   ]
  },
  {
   "cell_type": "markdown",
   "id": "e1161223",
   "metadata": {},
   "source": [
    "# project2\n",
    "Уникальные имена пользователей, попытки входа, удачные попытки, неудачные попытки, отношение удач к неудачам."
   ]
  },
  {
   "cell_type": "code",
   "execution_count": 7,
   "id": "e69373be",
   "metadata": {},
   "outputs": [
    {
     "data": {
      "text/html": [
       "<div>\n",
       "<style scoped>\n",
       "    .dataframe tbody tr th:only-of-type {\n",
       "        vertical-align: middle;\n",
       "    }\n",
       "\n",
       "    .dataframe tbody tr th {\n",
       "        vertical-align: top;\n",
       "    }\n",
       "\n",
       "    .dataframe thead th {\n",
       "        text-align: right;\n",
       "    }\n",
       "</style>\n",
       "<table border=\"1\" class=\"dataframe\">\n",
       "  <thead>\n",
       "    <tr style=\"text-align: right;\">\n",
       "      <th></th>\n",
       "      <th>source_ip</th>\n",
       "      <th>username</th>\n",
       "      <th>success</th>\n",
       "      <th>failures</th>\n",
       "      <th>attempts</th>\n",
       "      <th>success_rate</th>\n",
       "      <th>failure_rate</th>\n",
       "    </tr>\n",
       "  </thead>\n",
       "  <tbody>\n",
       "    <tr>\n",
       "      <th>0</th>\n",
       "      <td>1.138.149.116</td>\n",
       "      <td>1</td>\n",
       "      <td>14</td>\n",
       "      <td>0</td>\n",
       "      <td>14</td>\n",
       "      <td>1.000000</td>\n",
       "      <td>0.000000</td>\n",
       "    </tr>\n",
       "    <tr>\n",
       "      <th>1</th>\n",
       "      <td>1.54.45.23</td>\n",
       "      <td>49</td>\n",
       "      <td>17</td>\n",
       "      <td>68</td>\n",
       "      <td>85</td>\n",
       "      <td>0.200000</td>\n",
       "      <td>0.800000</td>\n",
       "    </tr>\n",
       "    <tr>\n",
       "      <th>2</th>\n",
       "      <td>100.43.18.36</td>\n",
       "      <td>1</td>\n",
       "      <td>7</td>\n",
       "      <td>0</td>\n",
       "      <td>7</td>\n",
       "      <td>1.000000</td>\n",
       "      <td>0.000000</td>\n",
       "    </tr>\n",
       "    <tr>\n",
       "      <th>3</th>\n",
       "      <td>101.113.31.197</td>\n",
       "      <td>1</td>\n",
       "      <td>10</td>\n",
       "      <td>1</td>\n",
       "      <td>11</td>\n",
       "      <td>0.909091</td>\n",
       "      <td>0.090909</td>\n",
       "    </tr>\n",
       "    <tr>\n",
       "      <th>4</th>\n",
       "      <td>101.154.143.93</td>\n",
       "      <td>1</td>\n",
       "      <td>30</td>\n",
       "      <td>5</td>\n",
       "      <td>35</td>\n",
       "      <td>0.857143</td>\n",
       "      <td>0.142857</td>\n",
       "    </tr>\n",
       "    <tr>\n",
       "      <th>...</th>\n",
       "      <td>...</td>\n",
       "      <td>...</td>\n",
       "      <td>...</td>\n",
       "      <td>...</td>\n",
       "      <td>...</td>\n",
       "      <td>...</td>\n",
       "      <td>...</td>\n",
       "    </tr>\n",
       "    <tr>\n",
       "      <th>330</th>\n",
       "      <td>95.227.178.199</td>\n",
       "      <td>1</td>\n",
       "      <td>6</td>\n",
       "      <td>2</td>\n",
       "      <td>8</td>\n",
       "      <td>0.750000</td>\n",
       "      <td>0.250000</td>\n",
       "    </tr>\n",
       "    <tr>\n",
       "      <th>331</th>\n",
       "      <td>96.19.200.227</td>\n",
       "      <td>1</td>\n",
       "      <td>5</td>\n",
       "      <td>0</td>\n",
       "      <td>5</td>\n",
       "      <td>1.000000</td>\n",
       "      <td>0.000000</td>\n",
       "    </tr>\n",
       "    <tr>\n",
       "      <th>332</th>\n",
       "      <td>96.42.66.7</td>\n",
       "      <td>1</td>\n",
       "      <td>4</td>\n",
       "      <td>1</td>\n",
       "      <td>5</td>\n",
       "      <td>0.800000</td>\n",
       "      <td>0.200000</td>\n",
       "    </tr>\n",
       "    <tr>\n",
       "      <th>333</th>\n",
       "      <td>97.233.182.38</td>\n",
       "      <td>1</td>\n",
       "      <td>8</td>\n",
       "      <td>0</td>\n",
       "      <td>8</td>\n",
       "      <td>1.000000</td>\n",
       "      <td>0.000000</td>\n",
       "    </tr>\n",
       "    <tr>\n",
       "      <th>334</th>\n",
       "      <td>97.56.241.22</td>\n",
       "      <td>1</td>\n",
       "      <td>3</td>\n",
       "      <td>0</td>\n",
       "      <td>3</td>\n",
       "      <td>1.000000</td>\n",
       "      <td>0.000000</td>\n",
       "    </tr>\n",
       "  </tbody>\n",
       "</table>\n",
       "<p>335 rows × 7 columns</p>\n",
       "</div>"
      ],
      "text/plain": [
       "          source_ip  username  success  failures  attempts  success_rate  \\\n",
       "0     1.138.149.116         1       14         0        14      1.000000   \n",
       "1        1.54.45.23        49       17        68        85      0.200000   \n",
       "2      100.43.18.36         1        7         0         7      1.000000   \n",
       "3    101.113.31.197         1       10         1        11      0.909091   \n",
       "4    101.154.143.93         1       30         5        35      0.857143   \n",
       "..              ...       ...      ...       ...       ...           ...   \n",
       "330  95.227.178.199         1        6         2         8      0.750000   \n",
       "331   96.19.200.227         1        5         0         5      1.000000   \n",
       "332      96.42.66.7         1        4         1         5      0.800000   \n",
       "333   97.233.182.38         1        8         0         8      1.000000   \n",
       "334    97.56.241.22         1        3         0         3      1.000000   \n",
       "\n",
       "     failure_rate  \n",
       "0        0.000000  \n",
       "1        0.800000  \n",
       "2        0.000000  \n",
       "3        0.090909  \n",
       "4        0.142857  \n",
       "..            ...  \n",
       "330      0.250000  \n",
       "331      0.000000  \n",
       "332      0.200000  \n",
       "333      0.000000  \n",
       "334      0.000000  \n",
       "\n",
       "[335 rows x 7 columns]"
      ]
     },
     "execution_count": 7,
     "metadata": {},
     "output_type": "execute_result"
    }
   ],
   "source": [
    "december_inf = pd.read_csv('december_2018_log.csv', parse_dates=True, index_col='datetime')\n",
    "december_assigned = december_inf.assign(\n",
    "    failures = lambda x: np.invert(x.success)).groupby('source_ip').agg(\n",
    "    {'username': 'nunique', 'success': 'sum', 'failures': 'sum'}).assign(\n",
    "                                                                        attempts=lambda x: x.success + x.failures,\n",
    "                                                                        success_rate=lambda x: x.success / x.attempts,\n",
    "                                                                        failure_rate=lambda x: 1 - x.success_rate\n",
    "                                                                        ).dropna().reset_index()\n",
    "december_assigned"
   ]
  },
  {
   "cell_type": "code",
   "execution_count": 8,
   "id": "3b48acaf",
   "metadata": {},
   "outputs": [
    {
     "data": {
      "text/plain": [
       "array([  1,  49, 123, 137, 143, 110, 146,  44, 108, 131,  70, 138, 117,\n",
       "        22, 121, 103,  66,  14,  45, 124,  59,  63, 134, 126,  23,  67,\n",
       "        12,   2, 139, 132, 135,  60,  64,  79,  75,  58, 129,  47,  54,\n",
       "       111,  27, 136,  15, 144,  93, 118,  98, 125,  41,  76, 140, 107,\n",
       "        55, 133, 102,  97,  65, 142], dtype=int64)"
      ]
     },
     "execution_count": 8,
     "metadata": {},
     "output_type": "execute_result"
    }
   ],
   "source": [
    "pd.unique(december_assigned.username)"
   ]
  },
  {
   "cell_type": "code",
   "execution_count": 9,
   "id": "4b298216",
   "metadata": {},
   "outputs": [
    {
     "data": {
      "text/plain": [
       "array([14, 17,  7, 10, 30,  2,  9, 28, 47,  1,  4, 39, 12, 18,  5,  6, 44,\n",
       "       13, 34, 45, 20, 38, 32, 42, 31, 15,  8, 24,  3, 40, 19, 36, 35, 21,\n",
       "       11, 16, 41, 43, 46, 26, 33, 29, 48, 27, 22, 37], dtype=int64)"
      ]
     },
     "execution_count": 9,
     "metadata": {},
     "output_type": "execute_result"
    }
   ],
   "source": [
    "pd.unique(december_assigned.success)"
   ]
  },
  {
   "cell_type": "code",
   "execution_count": 10,
   "id": "d49403bb",
   "metadata": {},
   "outputs": [
    {
     "data": {
      "text/plain": [
       "array([  0,  68,   1,   5, 188, 202,   2, 216, 167,   3, 208,  61, 151,\n",
       "       206, 101, 218, 181,  30, 172, 109,  27,  70, 191,  94,  82, 204,\n",
       "       203,  31,  88,  20,   4, 190, 212,  89,  98, 114, 207,   7, 108,\n",
       "        79, 183,  60,  74,   9, 154, 158, 211,  46, 201,  25,  24, 128,\n",
       "         8, 180, 189, 205, 132,  40, 209, 199,  66, 123, 153,  39, 171,\n",
       "        77, 141, 220, 197, 214,  87], dtype=int64)"
      ]
     },
     "execution_count": 10,
     "metadata": {},
     "output_type": "execute_result"
    }
   ],
   "source": [
    "pd.unique(december_assigned.failures)"
   ]
  },
  {
   "cell_type": "code",
   "execution_count": 11,
   "id": "0837d4d2",
   "metadata": {},
   "outputs": [
    {
     "data": {
      "text/plain": [
       "0        inf\n",
       "1       0.25\n",
       "2        inf\n",
       "3      10.00\n",
       "4       6.00\n",
       "       ...  \n",
       "330     3.00\n",
       "331      inf\n",
       "332     4.00\n",
       "333      inf\n",
       "334      inf\n",
       "Length: 335, dtype: float64"
      ]
     },
     "execution_count": 11,
     "metadata": {},
     "output_type": "execute_result"
    }
   ],
   "source": [
    "december_assigned.success/december_assigned.failures"
   ]
  },
  {
   "cell_type": "markdown",
   "id": "31cb15f6",
   "metadata": {},
   "source": [
    "# project3\n",
    "Графики, показывающие отношение неудачных попыток входа к общим попыткам и неудачных попыток к отдельным именам пользователей соответственно.\n",
    "Построение границ решений, основывающихся на полученных результатах."
   ]
  },
  {
   "cell_type": "code",
   "execution_count": 12,
   "id": "c9ffaec4",
   "metadata": {},
   "outputs": [
    {
     "data": {
      "text/plain": [
       "[<matplotlib.lines.Line2D at 0x2a8e0ba7f70>]"
      ]
     },
     "execution_count": 12,
     "metadata": {},
     "output_type": "execute_result"
    },
    {
     "data": {
      "image/png": "[encoded data removed]",
      "text/plain": [
       "<Figure size 1152x432 with 2 Axes>"
      ]
     },
     "metadata": {
      "needs_background": "light"
     },
     "output_type": "display_data"
    }
   ],
   "source": [
    "at_dist = december_assigned.source_ip.isin(pd.read_csv('december_2018_attacks.csv').source_ip)\n",
    "\n",
    "fig, axes = plt.subplots(1, 2, figsize=(16, 6))\n",
    "for ax, (x, y) in zip(axes, (('attempts', 'failures'), ('failure_rate', 'username'))) : ax = sns.scatterplot(\n",
    "                                                                                                        x = december_assigned[x], \n",
    "                                                                                                        y = december_assigned[y], \n",
    "                                                                                                        hue = at_dist,\n",
    "                                                                                                        ax = ax\n",
    ")\n",
    "axes[0].plot([60, 0], [15, 15], 'b--')\n",
    "axes[1].plot([0.6, 0.42], [0, 2.5], 'b--')"
   ]
  },
  {
   "cell_type": "markdown",
   "id": "99e4d2cf",
   "metadata": {},
   "source": [
    "# project4\n",
    "Создание критерия, основывающегося на правилах, при использовании процентной разницы от среднего значения, который помечает IP-адрес, если количество неудач и попыток в пять раз превышает их соответствующее среднее значение, или если количество отдельных имен пользователей в пять раз превышает среднее значение. Промежуток - 1 час."
   ]
  },
  {
   "cell_type": "code",
   "execution_count": 13,
   "id": "36e85cd2",
   "metadata": {},
   "outputs": [],
   "source": [
    "hourly_ip_logs = december_inf.assign(failures=lambda x: np.invert(x.success)).groupby('source_ip').resample('1H').agg(\n",
    "            {'username': 'nunique', 'success': 'sum', 'failures': 'sum'}).assign(\n",
    "                                                                                attempts=lambda x: x.success + x.failures,\n",
    "                                                                                success_rate=lambda x: x.success / x.attempts,\n",
    "                                                                                failure_rate=lambda x: 1 - x.success_rate\n",
    "                                                                                ).dropna().reset_index()"
   ]
  },
  {
   "cell_type": "code",
   "execution_count": 14,
   "id": "d10f0bb2",
   "metadata": {},
   "outputs": [
    {
     "data": {
      "text/html": [
       "<div>\n",
       "<style scoped>\n",
       "    .dataframe tbody tr th:only-of-type {\n",
       "        vertical-align: middle;\n",
       "    }\n",
       "\n",
       "    .dataframe tbody tr th {\n",
       "        vertical-align: top;\n",
       "    }\n",
       "\n",
       "    .dataframe thead th {\n",
       "        text-align: right;\n",
       "    }\n",
       "</style>\n",
       "<table border=\"1\" class=\"dataframe\">\n",
       "  <thead>\n",
       "    <tr style=\"text-align: right;\">\n",
       "      <th></th>\n",
       "      <th>source_ip</th>\n",
       "      <th>datetime</th>\n",
       "      <th>username</th>\n",
       "      <th>success</th>\n",
       "      <th>failures</th>\n",
       "      <th>attempts</th>\n",
       "      <th>success_rate</th>\n",
       "      <th>failure_rate</th>\n",
       "    </tr>\n",
       "  </thead>\n",
       "  <tbody>\n",
       "    <tr>\n",
       "      <th>0</th>\n",
       "      <td>1.138.149.116</td>\n",
       "      <td>2018-12-11 13:00:00</td>\n",
       "      <td>1</td>\n",
       "      <td>3</td>\n",
       "      <td>0</td>\n",
       "      <td>3</td>\n",
       "      <td>1.0</td>\n",
       "      <td>0.0</td>\n",
       "    </tr>\n",
       "    <tr>\n",
       "      <th>1</th>\n",
       "      <td>1.138.149.116</td>\n",
       "      <td>2018-12-11 14:00:00</td>\n",
       "      <td>1</td>\n",
       "      <td>4</td>\n",
       "      <td>0</td>\n",
       "      <td>4</td>\n",
       "      <td>1.0</td>\n",
       "      <td>0.0</td>\n",
       "    </tr>\n",
       "    <tr>\n",
       "      <th>2</th>\n",
       "      <td>1.138.149.116</td>\n",
       "      <td>2018-12-15 20:00:00</td>\n",
       "      <td>1</td>\n",
       "      <td>2</td>\n",
       "      <td>0</td>\n",
       "      <td>2</td>\n",
       "      <td>1.0</td>\n",
       "      <td>0.0</td>\n",
       "    </tr>\n",
       "    <tr>\n",
       "      <th>3</th>\n",
       "      <td>1.138.149.116</td>\n",
       "      <td>2018-12-17 23:00:00</td>\n",
       "      <td>1</td>\n",
       "      <td>2</td>\n",
       "      <td>0</td>\n",
       "      <td>2</td>\n",
       "      <td>1.0</td>\n",
       "      <td>0.0</td>\n",
       "    </tr>\n",
       "    <tr>\n",
       "      <th>4</th>\n",
       "      <td>1.138.149.116</td>\n",
       "      <td>2018-12-18 00:00:00</td>\n",
       "      <td>1</td>\n",
       "      <td>1</td>\n",
       "      <td>0</td>\n",
       "      <td>1</td>\n",
       "      <td>1.0</td>\n",
       "      <td>0.0</td>\n",
       "    </tr>\n",
       "    <tr>\n",
       "      <th>...</th>\n",
       "      <td>...</td>\n",
       "      <td>...</td>\n",
       "      <td>...</td>\n",
       "      <td>...</td>\n",
       "      <td>...</td>\n",
       "      <td>...</td>\n",
       "      <td>...</td>\n",
       "      <td>...</td>\n",
       "    </tr>\n",
       "    <tr>\n",
       "      <th>1444</th>\n",
       "      <td>97.233.182.38</td>\n",
       "      <td>2018-12-06 03:00:00</td>\n",
       "      <td>1</td>\n",
       "      <td>3</td>\n",
       "      <td>0</td>\n",
       "      <td>3</td>\n",
       "      <td>1.0</td>\n",
       "      <td>0.0</td>\n",
       "    </tr>\n",
       "    <tr>\n",
       "      <th>1445</th>\n",
       "      <td>97.233.182.38</td>\n",
       "      <td>2018-12-25 23:00:00</td>\n",
       "      <td>1</td>\n",
       "      <td>1</td>\n",
       "      <td>0</td>\n",
       "      <td>1</td>\n",
       "      <td>1.0</td>\n",
       "      <td>0.0</td>\n",
       "    </tr>\n",
       "    <tr>\n",
       "      <th>1446</th>\n",
       "      <td>97.233.182.38</td>\n",
       "      <td>2018-12-29 07:00:00</td>\n",
       "      <td>1</td>\n",
       "      <td>1</td>\n",
       "      <td>0</td>\n",
       "      <td>1</td>\n",
       "      <td>1.0</td>\n",
       "      <td>0.0</td>\n",
       "    </tr>\n",
       "    <tr>\n",
       "      <th>1447</th>\n",
       "      <td>97.56.241.22</td>\n",
       "      <td>2018-12-12 04:00:00</td>\n",
       "      <td>1</td>\n",
       "      <td>1</td>\n",
       "      <td>0</td>\n",
       "      <td>1</td>\n",
       "      <td>1.0</td>\n",
       "      <td>0.0</td>\n",
       "    </tr>\n",
       "    <tr>\n",
       "      <th>1448</th>\n",
       "      <td>97.56.241.22</td>\n",
       "      <td>2018-12-12 13:00:00</td>\n",
       "      <td>1</td>\n",
       "      <td>2</td>\n",
       "      <td>0</td>\n",
       "      <td>2</td>\n",
       "      <td>1.0</td>\n",
       "      <td>0.0</td>\n",
       "    </tr>\n",
       "  </tbody>\n",
       "</table>\n",
       "<p>1449 rows × 8 columns</p>\n",
       "</div>"
      ],
      "text/plain": [
       "          source_ip            datetime  username  success  failures  \\\n",
       "0     1.138.149.116 2018-12-11 13:00:00         1        3         0   \n",
       "1     1.138.149.116 2018-12-11 14:00:00         1        4         0   \n",
       "2     1.138.149.116 2018-12-15 20:00:00         1        2         0   \n",
       "3     1.138.149.116 2018-12-17 23:00:00         1        2         0   \n",
       "4     1.138.149.116 2018-12-18 00:00:00         1        1         0   \n",
       "...             ...                 ...       ...      ...       ...   \n",
       "1444  97.233.182.38 2018-12-06 03:00:00         1        3         0   \n",
       "1445  97.233.182.38 2018-12-25 23:00:00         1        1         0   \n",
       "1446  97.233.182.38 2018-12-29 07:00:00         1        1         0   \n",
       "1447   97.56.241.22 2018-12-12 04:00:00         1        1         0   \n",
       "1448   97.56.241.22 2018-12-12 13:00:00         1        2         0   \n",
       "\n",
       "      attempts  success_rate  failure_rate  \n",
       "0            3           1.0           0.0  \n",
       "1            4           1.0           0.0  \n",
       "2            2           1.0           0.0  \n",
       "3            2           1.0           0.0  \n",
       "4            1           1.0           0.0  \n",
       "...        ...           ...           ...  \n",
       "1444         3           1.0           0.0  \n",
       "1445         1           1.0           0.0  \n",
       "1446         1           1.0           0.0  \n",
       "1447         1           1.0           0.0  \n",
       "1448         2           1.0           0.0  \n",
       "\n",
       "[1449 rows x 8 columns]"
      ]
     },
     "execution_count": 14,
     "metadata": {},
     "output_type": "execute_result"
    }
   ],
   "source": [
    "hourly_ip_logs"
   ]
  },
  {
   "cell_type": "code",
   "execution_count": 15,
   "id": "238c5c67",
   "metadata": {},
   "outputs": [],
   "source": [
    "def get_baselines(hourly_ip_logs, func, *args, **kwargs):\n",
    "    if isinstance(func, str):\n",
    "        func = getattr(pd.DataFrame, func)\n",
    "    return hourly_ip_logs.assign(hour=lambda x: x.datetime.dt.hour).groupby('hour').apply(\n",
    "                    lambda x: x.sample(10, random_state=0, replace=True).pipe(func, *args, **kwargs, numeric_only=True))"
   ]
  },
  {
   "cell_type": "code",
   "execution_count": 16,
   "id": "c0c220ee",
   "metadata": {},
   "outputs": [
    {
     "data": {
      "text/plain": [
       "(24, 7)"
      ]
     },
     "execution_count": 16,
     "metadata": {},
     "output_type": "execute_result"
    }
   ],
   "source": [
    "averages = get_baselines(hourly_ip_logs, 'mean')\n",
    "averages.shape"
   ]
  },
  {
   "cell_type": "code",
   "execution_count": 17,
   "id": "61188a9a",
   "metadata": {},
   "outputs": [],
   "source": [
    "averages_h = hourly_ip_logs.assign(hour = lambda x: x.datetime.dt.hour).join(averages, on = 'hour', rsuffix = '_median').assign(\n",
    "             flag_median = lambda x: np.logical_or(np.logical_and(x.failures_median * 5 <= x.failures,\n",
    "                                                                  x.attempts_median * 5 <= x.attempts\n",
    "                                                               ), x.username_median * 5 <= x.username)\n",
    ").query('flag_median').source_ip.drop_duplicates()"
   ]
  },
  {
   "cell_type": "markdown",
   "id": "32eb9d88",
   "metadata": {},
   "source": [
    "# project5\n",
    "Рассчет показателей для оценки качества выполнения этих правил."
   ]
  },
  {
   "cell_type": "code",
   "execution_count": 18,
   "id": "45c072ed",
   "metadata": {},
   "outputs": [],
   "source": [
    "def evaluate(alerted_ips, attack_ips, log_ips):\n",
    "    tp = alerted_ips.isin(attack_ips).sum()\n",
    "    tn = np.invert(np.isin(log_ips[~log_ips.isin(alerted_ips)].unique(), attack_ips)).sum()\n",
    "    fp = np.invert(alerted_ips.isin(attack_ips)).sum()\n",
    "    fn = np.invert(attack_ips.isin(alerted_ips)).sum()\n",
    "    return tp, fp, tn, fn"
   ]
  },
  {
   "cell_type": "code",
   "execution_count": 19,
   "id": "87f16009",
   "metadata": {},
   "outputs": [],
   "source": [
    "from functools import partial\n",
    "scores = partial(evaluate, \n",
    "                 attack_ips = pd.read_csv('december_2018_attacks.csv').source_ip, \n",
    "                 log_ips = december_inf.source_ip.drop_duplicates())"
   ]
  },
  {
   "cell_type": "code",
   "execution_count": 20,
   "id": "b9f1736d",
   "metadata": {},
   "outputs": [],
   "source": [
    "def classification_stats(tp, fp, tn, fn):\n",
    "    return {\n",
    "        'FPR': fp / (fp + tn),\n",
    "        'FDR': fp / (fp + tp),\n",
    "        'FNR': fn / (fn + tp),\n",
    "        'FOR': fn / (fn + tn)\n",
    "}"
   ]
  },
  {
   "cell_type": "code",
   "execution_count": 21,
   "id": "4a5af59e",
   "metadata": {},
   "outputs": [
    {
     "data": {
      "text/plain": [
       "{'FPR': 0.0,\n",
       " 'FDR': 0.0,\n",
       " 'FNR': 0.19230769230769232,\n",
       " 'FOR': 0.05514705882352941}"
      ]
     },
     "execution_count": 21,
     "metadata": {},
     "output_type": "execute_result"
    }
   ],
   "source": [
    "classification_stats(*scores(averages_h))"
   ]
  },
  {
   "cell_type": "code",
   "execution_count": null,
   "id": "768baff0",
   "metadata": {},
   "outputs": [],
   "source": []
  }
 ],
 "metadata": {
  "kernelspec": {
   "display_name": "Python 3 (ipykernel)",
   "language": "python",
   "name": "python3"
  },
  "language_info": {
   "codemirror_mode": {
    "name": "ipython",
    "version": 3
   },
   "file_extension": ".py",
   "mimetype": "text/x-python",
   "name": "python",
   "nbconvert_exporter": "python",
   "pygments_lexer": "ipython3",
   "version": "3.8.13"
  }
 },
 "nbformat": 4,
 "nbformat_minor": 5
}
